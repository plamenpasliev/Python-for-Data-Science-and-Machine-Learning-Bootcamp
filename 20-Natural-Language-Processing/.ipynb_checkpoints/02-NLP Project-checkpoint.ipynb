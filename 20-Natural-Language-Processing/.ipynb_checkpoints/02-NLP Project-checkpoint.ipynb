{
 "cells": [
  {
   "cell_type": "markdown",
   "metadata": {},
   "source": [
    "___\n",
    "\n",
    "<a href='http://www.pieriandata.com'> <img src='../Pierian_Data_Logo.png' /></a>\n",
    "___"
   ]
  },
  {
   "cell_type": "markdown",
   "metadata": {},
   "source": [
    "# Natural Language Processing Project\n",
    "\n",
    "Welcome to the NLP Project for this section of the course. In this NLP project you will be attempting to classify Yelp Reviews into 1 star or 5 star categories based off the text content in the reviews. This will be a simpler procedure than the lecture, since we will utilize the pipeline methods for more complex tasks.\n",
    "\n",
    "We will use the [Yelp Review Data Set from Kaggle](https://www.kaggle.com/c/yelp-recsys-2013).\n",
    "\n",
    "Each observation in this dataset is a review of a particular business by a particular user.\n",
    "\n",
    "The \"stars\" column is the number of stars (1 through 5) assigned by the reviewer to the business. (Higher stars is better.) In other words, it is the rating of the business by the person who wrote the review.\n",
    "\n",
    "The \"cool\" column is the number of \"cool\" votes this review received from other Yelp users. \n",
    "\n",
    "All reviews start with 0 \"cool\" votes, and there is no limit to how many \"cool\" votes a review can receive. In other words, it is a rating of the review itself, not a rating of the business.\n",
    "\n",
    "The \"useful\" and \"funny\" columns are similar to the \"cool\" column.\n",
    "\n",
    "Let's get started! Just follow the directions below!"
   ]
  },
  {
   "cell_type": "markdown",
   "metadata": {},
   "source": [
    "## Imports\n",
    " **Import the usual suspects. :) **"
   ]
  },
  {
   "cell_type": "code",
   "execution_count": 16,
   "metadata": {
    "collapsed": true
   },
   "outputs": [],
   "source": [
    "import pandas as pd \n",
    "import numpy as np\n",
    "import seaborn as sns\n",
    "import matplotlib.pyplot as plt\n",
    "%matplotlib inline"
   ]
  },
  {
   "cell_type": "markdown",
   "metadata": {},
   "source": [
    "## The Data\n",
    "\n",
    "**Read the yelp.csv file and set it as a dataframe called yelp.**"
   ]
  },
  {
   "cell_type": "code",
   "execution_count": 2,
   "metadata": {
    "collapsed": true
   },
   "outputs": [],
   "source": [
    "yelp = pd.read_csv('yelp.csv')"
   ]
  },
  {
   "cell_type": "markdown",
   "metadata": {},
   "source": [
    "** Check the head, info , and describe methods on yelp.**"
   ]
  },
  {
   "cell_type": "code",
   "execution_count": 8,
   "metadata": {},
   "outputs": [
    {
     "data": {
      "text/html": [
       "<div>\n",
       "<style scoped>\n",
       "    .dataframe tbody tr th:only-of-type {\n",
       "        vertical-align: middle;\n",
       "    }\n",
       "\n",
       "    .dataframe tbody tr th {\n",
       "        vertical-align: top;\n",
       "    }\n",
       "\n",
       "    .dataframe thead th {\n",
       "        text-align: right;\n",
       "    }\n",
       "</style>\n",
       "<table border=\"1\" class=\"dataframe\">\n",
       "  <thead>\n",
       "    <tr style=\"text-align: right;\">\n",
       "      <th></th>\n",
       "      <th>business_id</th>\n",
       "      <th>date</th>\n",
       "      <th>review_id</th>\n",
       "      <th>stars</th>\n",
       "      <th>text</th>\n",
       "      <th>type</th>\n",
       "      <th>user_id</th>\n",
       "      <th>cool</th>\n",
       "      <th>useful</th>\n",
       "      <th>funny</th>\n",
       "      <th>text length</th>\n",
       "    </tr>\n",
       "  </thead>\n",
       "  <tbody>\n",
       "    <tr>\n",
       "      <th>0</th>\n",
       "      <td>9yKzy9PApeiPPOUJEtnvkg</td>\n",
       "      <td>2011-01-26</td>\n",
       "      <td>fWKvX83p0-ka4JS3dc6E5A</td>\n",
       "      <td>5</td>\n",
       "      <td>My wife took me here on my birthday for breakf...</td>\n",
       "      <td>review</td>\n",
       "      <td>rLtl8ZkDX5vH5nAx9C3q5Q</td>\n",
       "      <td>2</td>\n",
       "      <td>5</td>\n",
       "      <td>0</td>\n",
       "      <td>889</td>\n",
       "    </tr>\n",
       "    <tr>\n",
       "      <th>1</th>\n",
       "      <td>ZRJwVLyzEJq1VAihDhYiow</td>\n",
       "      <td>2011-07-27</td>\n",
       "      <td>IjZ33sJrzXqU-0X6U8NwyA</td>\n",
       "      <td>5</td>\n",
       "      <td>I have no idea why some people give bad review...</td>\n",
       "      <td>review</td>\n",
       "      <td>0a2KyEL0d3Yb1V6aivbIuQ</td>\n",
       "      <td>0</td>\n",
       "      <td>0</td>\n",
       "      <td>0</td>\n",
       "      <td>1345</td>\n",
       "    </tr>\n",
       "    <tr>\n",
       "      <th>2</th>\n",
       "      <td>6oRAC4uyJCsJl1X0WZpVSA</td>\n",
       "      <td>2012-06-14</td>\n",
       "      <td>IESLBzqUCLdSzSqm0eCSxQ</td>\n",
       "      <td>4</td>\n",
       "      <td>love the gyro plate. Rice is so good and I als...</td>\n",
       "      <td>review</td>\n",
       "      <td>0hT2KtfLiobPvh6cDC8JQg</td>\n",
       "      <td>0</td>\n",
       "      <td>1</td>\n",
       "      <td>0</td>\n",
       "      <td>76</td>\n",
       "    </tr>\n",
       "    <tr>\n",
       "      <th>3</th>\n",
       "      <td>_1QQZuf4zZOyFCvXc0o6Vg</td>\n",
       "      <td>2010-05-27</td>\n",
       "      <td>G-WvGaISbqqaMHlNnByodA</td>\n",
       "      <td>5</td>\n",
       "      <td>Rosie, Dakota, and I LOVE Chaparral Dog Park!!...</td>\n",
       "      <td>review</td>\n",
       "      <td>uZetl9T0NcROGOyFfughhg</td>\n",
       "      <td>1</td>\n",
       "      <td>2</td>\n",
       "      <td>0</td>\n",
       "      <td>419</td>\n",
       "    </tr>\n",
       "    <tr>\n",
       "      <th>4</th>\n",
       "      <td>6ozycU1RpktNG2-1BroVtw</td>\n",
       "      <td>2012-01-05</td>\n",
       "      <td>1uJFq2r5QfJG_6ExMRCaGw</td>\n",
       "      <td>5</td>\n",
       "      <td>General Manager Scott Petello is a good egg!!!...</td>\n",
       "      <td>review</td>\n",
       "      <td>vYmM4KTsC8ZfQBg-j5MWkw</td>\n",
       "      <td>0</td>\n",
       "      <td>0</td>\n",
       "      <td>0</td>\n",
       "      <td>469</td>\n",
       "    </tr>\n",
       "  </tbody>\n",
       "</table>\n",
       "</div>"
      ],
      "text/plain": [
       "              business_id        date               review_id  stars  \\\n",
       "0  9yKzy9PApeiPPOUJEtnvkg  2011-01-26  fWKvX83p0-ka4JS3dc6E5A      5   \n",
       "1  ZRJwVLyzEJq1VAihDhYiow  2011-07-27  IjZ33sJrzXqU-0X6U8NwyA      5   \n",
       "2  6oRAC4uyJCsJl1X0WZpVSA  2012-06-14  IESLBzqUCLdSzSqm0eCSxQ      4   \n",
       "3  _1QQZuf4zZOyFCvXc0o6Vg  2010-05-27  G-WvGaISbqqaMHlNnByodA      5   \n",
       "4  6ozycU1RpktNG2-1BroVtw  2012-01-05  1uJFq2r5QfJG_6ExMRCaGw      5   \n",
       "\n",
       "                                                text    type  \\\n",
       "0  My wife took me here on my birthday for breakf...  review   \n",
       "1  I have no idea why some people give bad review...  review   \n",
       "2  love the gyro plate. Rice is so good and I als...  review   \n",
       "3  Rosie, Dakota, and I LOVE Chaparral Dog Park!!...  review   \n",
       "4  General Manager Scott Petello is a good egg!!!...  review   \n",
       "\n",
       "                  user_id  cool  useful  funny  text length  \n",
       "0  rLtl8ZkDX5vH5nAx9C3q5Q     2       5      0          889  \n",
       "1  0a2KyEL0d3Yb1V6aivbIuQ     0       0      0         1345  \n",
       "2  0hT2KtfLiobPvh6cDC8JQg     0       1      0           76  \n",
       "3  uZetl9T0NcROGOyFfughhg     1       2      0          419  \n",
       "4  vYmM4KTsC8ZfQBg-j5MWkw     0       0      0          469  "
      ]
     },
     "execution_count": 8,
     "metadata": {},
     "output_type": "execute_result"
    }
   ],
   "source": [
    "yelp.head()"
   ]
  },
  {
   "cell_type": "code",
   "execution_count": null,
   "metadata": {
    "collapsed": true
   },
   "outputs": [],
   "source": []
  },
  {
   "cell_type": "code",
   "execution_count": 5,
   "metadata": {},
   "outputs": [
    {
     "name": "stdout",
     "output_type": "stream",
     "text": [
      "<class 'pandas.core.frame.DataFrame'>\n",
      "RangeIndex: 10000 entries, 0 to 9999\n",
      "Data columns (total 10 columns):\n",
      "business_id    10000 non-null object\n",
      "date           10000 non-null object\n",
      "review_id      10000 non-null object\n",
      "stars          10000 non-null int64\n",
      "text           10000 non-null object\n",
      "type           10000 non-null object\n",
      "user_id        10000 non-null object\n",
      "cool           10000 non-null int64\n",
      "useful         10000 non-null int64\n",
      "funny          10000 non-null int64\n",
      "dtypes: int64(4), object(6)\n",
      "memory usage: 781.3+ KB\n"
     ]
    }
   ],
   "source": [
    "yelp.info()"
   ]
  },
  {
   "cell_type": "code",
   "execution_count": 6,
   "metadata": {},
   "outputs": [
    {
     "data": {
      "text/html": [
       "<div>\n",
       "<style scoped>\n",
       "    .dataframe tbody tr th:only-of-type {\n",
       "        vertical-align: middle;\n",
       "    }\n",
       "\n",
       "    .dataframe tbody tr th {\n",
       "        vertical-align: top;\n",
       "    }\n",
       "\n",
       "    .dataframe thead th {\n",
       "        text-align: right;\n",
       "    }\n",
       "</style>\n",
       "<table border=\"1\" class=\"dataframe\">\n",
       "  <thead>\n",
       "    <tr style=\"text-align: right;\">\n",
       "      <th></th>\n",
       "      <th>stars</th>\n",
       "      <th>cool</th>\n",
       "      <th>useful</th>\n",
       "      <th>funny</th>\n",
       "    </tr>\n",
       "  </thead>\n",
       "  <tbody>\n",
       "    <tr>\n",
       "      <th>count</th>\n",
       "      <td>10000.000000</td>\n",
       "      <td>10000.000000</td>\n",
       "      <td>10000.000000</td>\n",
       "      <td>10000.000000</td>\n",
       "    </tr>\n",
       "    <tr>\n",
       "      <th>mean</th>\n",
       "      <td>3.777500</td>\n",
       "      <td>0.876800</td>\n",
       "      <td>1.409300</td>\n",
       "      <td>0.701300</td>\n",
       "    </tr>\n",
       "    <tr>\n",
       "      <th>std</th>\n",
       "      <td>1.214636</td>\n",
       "      <td>2.067861</td>\n",
       "      <td>2.336647</td>\n",
       "      <td>1.907942</td>\n",
       "    </tr>\n",
       "    <tr>\n",
       "      <th>min</th>\n",
       "      <td>1.000000</td>\n",
       "      <td>0.000000</td>\n",
       "      <td>0.000000</td>\n",
       "      <td>0.000000</td>\n",
       "    </tr>\n",
       "    <tr>\n",
       "      <th>25%</th>\n",
       "      <td>3.000000</td>\n",
       "      <td>0.000000</td>\n",
       "      <td>0.000000</td>\n",
       "      <td>0.000000</td>\n",
       "    </tr>\n",
       "    <tr>\n",
       "      <th>50%</th>\n",
       "      <td>4.000000</td>\n",
       "      <td>0.000000</td>\n",
       "      <td>1.000000</td>\n",
       "      <td>0.000000</td>\n",
       "    </tr>\n",
       "    <tr>\n",
       "      <th>75%</th>\n",
       "      <td>5.000000</td>\n",
       "      <td>1.000000</td>\n",
       "      <td>2.000000</td>\n",
       "      <td>1.000000</td>\n",
       "    </tr>\n",
       "    <tr>\n",
       "      <th>max</th>\n",
       "      <td>5.000000</td>\n",
       "      <td>77.000000</td>\n",
       "      <td>76.000000</td>\n",
       "      <td>57.000000</td>\n",
       "    </tr>\n",
       "  </tbody>\n",
       "</table>\n",
       "</div>"
      ],
      "text/plain": [
       "              stars          cool        useful         funny\n",
       "count  10000.000000  10000.000000  10000.000000  10000.000000\n",
       "mean       3.777500      0.876800      1.409300      0.701300\n",
       "std        1.214636      2.067861      2.336647      1.907942\n",
       "min        1.000000      0.000000      0.000000      0.000000\n",
       "25%        3.000000      0.000000      0.000000      0.000000\n",
       "50%        4.000000      0.000000      1.000000      0.000000\n",
       "75%        5.000000      1.000000      2.000000      1.000000\n",
       "max        5.000000     77.000000     76.000000     57.000000"
      ]
     },
     "execution_count": 6,
     "metadata": {},
     "output_type": "execute_result"
    }
   ],
   "source": [
    "yelp.describe()"
   ]
  },
  {
   "cell_type": "markdown",
   "metadata": {},
   "source": [
    "**Create a new column called \"text length\" which is the number of words in the text column.**"
   ]
  },
  {
   "cell_type": "code",
   "execution_count": 7,
   "metadata": {
    "collapsed": true
   },
   "outputs": [],
   "source": [
    "yelp['text length'] = yelp['text'].apply(len)"
   ]
  },
  {
   "cell_type": "markdown",
   "metadata": {},
   "source": [
    "# EDA\n",
    "\n",
    "Let's explore the data\n",
    "\n",
    "## Imports\n",
    "\n",
    "**Import the data visualization libraries if you haven't done so already.**"
   ]
  },
  {
   "cell_type": "code",
   "execution_count": 101,
   "metadata": {
    "collapsed": true
   },
   "outputs": [],
   "source": []
  },
  {
   "cell_type": "markdown",
   "metadata": {},
   "source": [
    "**Use FacetGrid from the seaborn library to create a grid of 5 histograms of text length based off of the star ratings. Reference the seaborn documentation for hints on this**"
   ]
  },
  {
   "cell_type": "code",
   "execution_count": 18,
   "metadata": {},
   "outputs": [
    {
     "data": {
      "image/png": "[encoded data removed]",
      "text/plain": [
       "<Figure size 1080x216 with 5 Axes>"
      ]
     },
     "metadata": {},
     "output_type": "display_data"
    }
   ],
   "source": [
    "g = sns.FacetGrid(col='stars', data=yelp)\n",
    "\n",
    "g.map(plt.hist, 'text length')\n",
    "\n",
    "plt.tight_layout()"
   ]
  },
  {
   "cell_type": "code",
   "execution_count": 102,
   "metadata": {},
   "outputs": [
    {
     "data": {
      "text/plain": [
       "<seaborn.axisgrid.FacetGrid at 0x121e705f8>"
      ]
     },
     "execution_count": 102,
     "metadata": {},
     "output_type": "execute_result"
    },
    {
     "data": {
      "image/png": "[encoded data removed]",
      "text/plain": [
       "<matplotlib.figure.Figure at 0x121e70ba8>"
      ]
     },
     "metadata": {},
     "output_type": "display_data"
    }
   ],
   "source": []
  },
  {
   "cell_type": "markdown",
   "metadata": {},
   "source": [
    "**Create a boxplot of text length for each star category.**"
   ]
  },
  {
   "cell_type": "code",
   "execution_count": 19,
   "metadata": {},
   "outputs": [
    {
     "data": {
      "text/plain": [
       "<matplotlib.axes._subplots.AxesSubplot at 0x2c5b44b2358>"
      ]
     },
     "execution_count": 19,
     "metadata": {},
     "output_type": "execute_result"
    },
    {
     "data": {
      "image/png": "[encoded data removed]",
      "text/plain": [
       "<Figure size 432x288 with 1 Axes>"
      ]
     },
     "metadata": {},
     "output_type": "display_data"
    }
   ],
   "source": [
    "sns.boxplot(data=yelp, y='text length', x='stars')"
   ]
  },
  {
   "cell_type": "code",
   "execution_count": 103,
   "metadata": {},
   "outputs": [
    {
     "data": {
      "text/plain": [
       "<matplotlib.axes._subplots.AxesSubplot at 0x121283470>"
      ]
     },
     "execution_count": 103,
     "metadata": {},
     "output_type": "execute_result"
    },
    {
     "data": {
      "image/png": "[encoded data removed]",
      "text/plain": [
       "<matplotlib.figure.Figure at 0x122037b70>"
      ]
     },
     "metadata": {},
     "output_type": "display_data"
    }
   ],
   "source": []
  },
  {
   "cell_type": "markdown",
   "metadata": {},
   "source": [
    "**Create a countplot of the number of occurrences for each type of star rating.**"
   ]
  },
  {
   "cell_type": "code",
   "execution_count": 20,
   "metadata": {},
   "outputs": [
    {
     "data": {
      "text/plain": [
       "<matplotlib.axes._subplots.AxesSubplot at 0x2c5b4125d30>"
      ]
     },
     "execution_count": 20,
     "metadata": {},
     "output_type": "execute_result"
    },
    {
     "data": {
      "image/png": "[encoded data removed]",
      "text/plain": [
       "<Figure size 432x288 with 1 Axes>"
      ]
     },
     "metadata": {},
     "output_type": "display_data"
    }
   ],
   "source": [
    "sns.countplot(data=yelp, x='stars')"
   ]
  },
  {
   "cell_type": "code",
   "execution_count": 104,
   "metadata": {},
   "outputs": [
    {
     "data": {
      "text/plain": [
       "<matplotlib.axes._subplots.AxesSubplot at 0x12578fc88>"
      ]
     },
     "execution_count": 104,
     "metadata": {},
     "output_type": "execute_result"
    },
    {
     "data": {
      "image/png": "[encoded data removed]",
      "text/plain": [
       "<matplotlib.figure.Figure at 0x12265cf98>"
      ]
     },
     "metadata": {},
     "output_type": "display_data"
    }
   ],
   "source": []
  },
  {
   "cell_type": "markdown",
   "metadata": {},
   "source": [
    "** Use groupby to get the mean values of the numerical columns, you should be able to create this dataframe with the operation:**"
   ]
  },
  {
   "cell_type": "code",
   "execution_count": 21,
   "metadata": {},
   "outputs": [
    {
     "data": {
      "text/html": [
       "<div>\n",
       "<style scoped>\n",
       "    .dataframe tbody tr th:only-of-type {\n",
       "        vertical-align: middle;\n",
       "    }\n",
       "\n",
       "    .dataframe tbody tr th {\n",
       "        vertical-align: top;\n",
       "    }\n",
       "\n",
       "    .dataframe thead th {\n",
       "        text-align: right;\n",
       "    }\n",
       "</style>\n",
       "<table border=\"1\" class=\"dataframe\">\n",
       "  <thead>\n",
       "    <tr style=\"text-align: right;\">\n",
       "      <th></th>\n",
       "      <th>cool</th>\n",
       "      <th>useful</th>\n",
       "      <th>funny</th>\n",
       "      <th>text length</th>\n",
       "    </tr>\n",
       "    <tr>\n",
       "      <th>stars</th>\n",
       "      <th></th>\n",
       "      <th></th>\n",
       "      <th></th>\n",
       "      <th></th>\n",
       "    </tr>\n",
       "  </thead>\n",
       "  <tbody>\n",
       "    <tr>\n",
       "      <th>1</th>\n",
       "      <td>0.576769</td>\n",
       "      <td>1.604806</td>\n",
       "      <td>1.056075</td>\n",
       "      <td>826.515354</td>\n",
       "    </tr>\n",
       "    <tr>\n",
       "      <th>2</th>\n",
       "      <td>0.719525</td>\n",
       "      <td>1.563107</td>\n",
       "      <td>0.875944</td>\n",
       "      <td>842.256742</td>\n",
       "    </tr>\n",
       "    <tr>\n",
       "      <th>3</th>\n",
       "      <td>0.788501</td>\n",
       "      <td>1.306639</td>\n",
       "      <td>0.694730</td>\n",
       "      <td>758.498289</td>\n",
       "    </tr>\n",
       "    <tr>\n",
       "      <th>4</th>\n",
       "      <td>0.954623</td>\n",
       "      <td>1.395916</td>\n",
       "      <td>0.670448</td>\n",
       "      <td>712.923142</td>\n",
       "    </tr>\n",
       "    <tr>\n",
       "      <th>5</th>\n",
       "      <td>0.944261</td>\n",
       "      <td>1.381780</td>\n",
       "      <td>0.608631</td>\n",
       "      <td>624.999101</td>\n",
       "    </tr>\n",
       "  </tbody>\n",
       "</table>\n",
       "</div>"
      ],
      "text/plain": [
       "           cool    useful     funny  text length\n",
       "stars                                           \n",
       "1      0.576769  1.604806  1.056075   826.515354\n",
       "2      0.719525  1.563107  0.875944   842.256742\n",
       "3      0.788501  1.306639  0.694730   758.498289\n",
       "4      0.954623  1.395916  0.670448   712.923142\n",
       "5      0.944261  1.381780  0.608631   624.999101"
      ]
     },
     "execution_count": 21,
     "metadata": {},
     "output_type": "execute_result"
    }
   ],
   "source": [
    "yelp.groupby('stars').mean()"
   ]
  },
  {
   "cell_type": "code",
   "execution_count": 105,
   "metadata": {},
   "outputs": [
    {
     "data": {
      "text/html": [
       "<div>\n",
       "<table border=\"1\" class=\"dataframe\">\n",
       "  <thead>\n",
       "    <tr style=\"text-align: right;\">\n",
       "      <th></th>\n",
       "      <th>cool</th>\n",
       "      <th>useful</th>\n",
       "      <th>funny</th>\n",
       "      <th>text length</th>\n",
       "    </tr>\n",
       "    <tr>\n",
       "      <th>stars</th>\n",
       "      <th></th>\n",
       "      <th></th>\n",
       "      <th></th>\n",
       "      <th></th>\n",
       "    </tr>\n",
       "  </thead>\n",
       "  <tbody>\n",
       "    <tr>\n",
       "      <th>1</th>\n",
       "      <td>0.576769</td>\n",
       "      <td>1.604806</td>\n",
       "      <td>1.056075</td>\n",
       "      <td>826.515354</td>\n",
       "    </tr>\n",
       "    <tr>\n",
       "      <th>2</th>\n",
       "      <td>0.719525</td>\n",
       "      <td>1.563107</td>\n",
       "      <td>0.875944</td>\n",
       "      <td>842.256742</td>\n",
       "    </tr>\n",
       "    <tr>\n",
       "      <th>3</th>\n",
       "      <td>0.788501</td>\n",
       "      <td>1.306639</td>\n",
       "      <td>0.694730</td>\n",
       "      <td>758.498289</td>\n",
       "    </tr>\n",
       "    <tr>\n",
       "      <th>4</th>\n",
       "      <td>0.954623</td>\n",
       "      <td>1.395916</td>\n",
       "      <td>0.670448</td>\n",
       "      <td>712.923142</td>\n",
       "    </tr>\n",
       "    <tr>\n",
       "      <th>5</th>\n",
       "      <td>0.944261</td>\n",
       "      <td>1.381780</td>\n",
       "      <td>0.608631</td>\n",
       "      <td>624.999101</td>\n",
       "    </tr>\n",
       "  </tbody>\n",
       "</table>\n",
       "</div>"
      ],
      "text/plain": [
       "           cool    useful     funny  text length\n",
       "stars                                           \n",
       "1      0.576769  1.604806  1.056075   826.515354\n",
       "2      0.719525  1.563107  0.875944   842.256742\n",
       "3      0.788501  1.306639  0.694730   758.498289\n",
       "4      0.954623  1.395916  0.670448   712.923142\n",
       "5      0.944261  1.381780  0.608631   624.999101"
      ]
     },
     "execution_count": 105,
     "metadata": {},
     "output_type": "execute_result"
    }
   ],
   "source": []
  },
  {
   "cell_type": "markdown",
   "metadata": {},
   "source": [
    "**Use the corr() method on that groupby dataframe to produce this dataframe:**"
   ]
  },
  {
   "cell_type": "code",
   "execution_count": 24,
   "metadata": {},
   "outputs": [],
   "source": [
    "cor = yelp.groupby('stars').mean().corr()"
   ]
  },
  {
   "cell_type": "markdown",
   "metadata": {},
   "source": [
    "**Then use seaborn to create a heatmap based off that .corr() dataframe:**"
   ]
  },
  {
   "cell_type": "code",
   "execution_count": 29,
   "metadata": {},
   "outputs": [
    {
     "data": {
      "image/png": "[encoded data removed]",
      "text/plain": [
       "<Figure size 432x288 with 2 Axes>"
      ]
     },
     "metadata": {},
     "output_type": "display_data"
    }
   ],
   "source": [
    "sns.heatmap(data=cor, cmap='coolwarm', annot=True)\n",
    "\n",
    "plt.tight_layout()"
   ]
  },
  {
   "cell_type": "code",
   "execution_count": 38,
   "metadata": {},
   "outputs": [
    {
     "data": {
      "text/plain": [
       "<matplotlib.axes._subplots.AxesSubplot at 0x120edb828>"
      ]
     },
     "execution_count": 38,
     "metadata": {},
     "output_type": "execute_result"
    },
    {
     "data": {
      "image/png": "[encoded data removed]",
      "text/plain": [
       "<matplotlib.figure.Figure at 0x120edb048>"
      ]
     },
     "metadata": {},
     "output_type": "display_data"
    }
   ],
   "source": []
  },
  {
   "cell_type": "markdown",
   "metadata": {},
   "source": [
    "## NLP Classification Task\n",
    "\n",
    "Let's move on to the actual task. To make things a little easier, go ahead and only grab reviews that were either 1 star or 5 stars.\n",
    "\n",
    "**Create a dataframe called yelp_class that contains the columns of yelp dataframe but for only the 1 or 5 star reviews.**"
   ]
  },
  {
   "cell_type": "code",
   "execution_count": 32,
   "metadata": {},
   "outputs": [
    {
     "name": "stderr",
     "output_type": "stream",
     "text": [
      "C:\\Users\\Plamen\\Anaconda3\\lib\\site-packages\\ipykernel_launcher.py:1: UserWarning: Boolean Series key will be reindexed to match DataFrame index.\n",
      "  \"\"\"Entry point for launching an IPython kernel.\n",
      "C:\\Users\\Plamen\\Anaconda3\\lib\\site-packages\\ipykernel_launcher.py:1: UserWarning: Boolean Series key will be reindexed to match DataFrame index.\n",
      "  \"\"\"Entry point for launching an IPython kernel.\n"
     ]
    }
   ],
   "source": [
    "yelp_class = yelp[yelp['stars']!=2][yelp['stars']!=3][yelp['stars']!=4]"
   ]
  },
  {
   "cell_type": "markdown",
   "metadata": {},
   "source": [
    "** Create two objects X and y. X will be the 'text' column of yelp_class and y will be the 'stars' column of yelp_class. (Your features and target/labels)**"
   ]
  },
  {
   "cell_type": "code",
   "execution_count": 34,
   "metadata": {
    "collapsed": true
   },
   "outputs": [],
   "source": [
    "X = yelp_class['text']\n",
    "y = yelp_class['stars']"
   ]
  },
  {
   "cell_type": "markdown",
   "metadata": {},
   "source": [
    "**Import CountVectorizer and create a CountVectorizer object.**"
   ]
  },
  {
   "cell_type": "code",
   "execution_count": 40,
   "metadata": {},
   "outputs": [],
   "source": [
    "from sklearn.feature_extraction.text import CountVectorizer\n",
    "\n",
    "cv = CountVectorizer()"
   ]
  },
  {
   "cell_type": "markdown",
   "metadata": {},
   "source": [
    "** Use the fit_transform method on the CountVectorizer object and pass in X (the 'text' column). Save this result by overwriting X.**"
   ]
  },
  {
   "cell_type": "code",
   "execution_count": 57,
   "metadata": {},
   "outputs": [
    {
     "data": {
      "text/plain": [
       "{'my': 11265,\n",
       " 'wife': 18735,\n",
       " 'took': 17406,\n",
       " 'me': 10635,\n",
       " 'here': 8161,\n",
       " 'on': 11821,\n",
       " 'birthday': 1984,\n",
       " 'for': 6864,\n",
       " 'breakfast': 2364,\n",
       " 'and': 937,\n",
       " 'it': 9114,\n",
       " 'was': 18517,\n",
       " 'excellent': 6123,\n",
       " 'the': 17126,\n",
       " 'weather': 18585,\n",
       " 'perfect': 12505,\n",
       " 'which': 18672,\n",
       " 'made': 10300,\n",
       " 'sitting': 15422,\n",
       " 'outside': 12016,\n",
       " 'overlooking': 12054,\n",
       " 'their': 17134,\n",
       " 'grounds': 7715,\n",
       " 'an': 921,\n",
       " 'absolute': 407,\n",
       " 'pleasure': 12846,\n",
       " 'our': 11982,\n",
       " 'waitress': 18440,\n",
       " 'food': 6835,\n",
       " 'arrived': 1207,\n",
       " 'quickly': 13554,\n",
       " 'semi': 14998,\n",
       " 'busy': 2646,\n",
       " 'saturday': 14725,\n",
       " 'morning': 11119,\n",
       " 'looked': 10130,\n",
       " 'like': 9947,\n",
       " 'place': 12778,\n",
       " 'fills': 6567,\n",
       " 'up': 18042,\n",
       " 'pretty': 13186,\n",
       " 'so': 15671,\n",
       " 'earlier': 5610,\n",
       " 'you': 19066,\n",
       " 'get': 7333,\n",
       " 'better': 1905,\n",
       " 'do': 5281,\n",
       " 'yourself': 19077,\n",
       " 'favor': 6419,\n",
       " 'bloody': 2095,\n",
       " 'mary': 10524,\n",
       " 'phenomenal': 12599,\n",
       " 'simply': 15380,\n",
       " 'best': 1893,\n",
       " 've': 18192,\n",
       " 'ever': 6074,\n",
       " 'had': 7844,\n",
       " 'sure': 16615,\n",
       " 'they': 17163,\n",
       " 'only': 11832,\n",
       " 'use': 18100,\n",
       " 'ingredients': 8853,\n",
       " 'from': 7058,\n",
       " 'garden': 7223,\n",
       " 'blend': 2062,\n",
       " 'them': 17137,\n",
       " 'fresh': 7007,\n",
       " 'when': 18663,\n",
       " 'order': 11907,\n",
       " 'amazing': 866,\n",
       " 'while': 18674,\n",
       " 'everything': 6085,\n",
       " 'menu': 10737,\n",
       " 'looks': 10133,\n",
       " 'white': 18698,\n",
       " 'truffle': 17667,\n",
       " 'scrambled': 14862,\n",
       " 'eggs': 5723,\n",
       " 'vegetable': 18200,\n",
       " 'skillet': 15456,\n",
       " 'tasty': 16913,\n",
       " 'delicious': 4817,\n",
       " 'came': 2767,\n",
       " 'with': 18826,\n",
       " 'pieces': 12678,\n",
       " 'of': 11742,\n",
       " 'griddled': 7664,\n",
       " 'bread': 2354,\n",
       " 'absolutely': 408,\n",
       " 'meal': 10637,\n",
       " 'complete': 3796,\n",
       " 'toast': 17346,\n",
       " 'anyway': 1027,\n",
       " 'can': 2788,\n",
       " 'wait': 18432,\n",
       " 'to': 17344,\n",
       " 'go': 7457,\n",
       " 'back': 1508,\n",
       " 'have': 8018,\n",
       " 'no': 11519,\n",
       " 'idea': 8599,\n",
       " 'why': 18723,\n",
       " 'some': 15740,\n",
       " 'people': 12481,\n",
       " 'give': 7388,\n",
       " 'bad': 1524,\n",
       " 'reviews': 14238,\n",
       " 'about': 397,\n",
       " 'this': 17192,\n",
       " 'goes': 7476,\n",
       " 'show': 15273,\n",
       " 'please': 12841,\n",
       " 'everyone': 6083,\n",
       " 'are': 1152,\n",
       " 'probably': 13251,\n",
       " 'griping': 7690,\n",
       " 'something': 15748,\n",
       " 'that': 17121,\n",
       " 'own': 12093,\n",
       " 'fault': 6413,\n",
       " 'there': 17152,\n",
       " 'many': 10434,\n",
       " 'in': 8709,\n",
       " 'any': 1016,\n",
       " 'case': 2954,\n",
       " 'friend': 7027,\n",
       " 'at': 1329,\n",
       " '50': 260,\n",
       " 'pm': 12878,\n",
       " 'past': 12321,\n",
       " 'sunday': 16555,\n",
       " 'crowded': 4383,\n",
       " 'more': 11112,\n",
       " 'than': 17108,\n",
       " 'thought': 17204,\n",
       " 'evening': 6069,\n",
       " 'we': 18575,\n",
       " 'would': 18921,\n",
       " 'forever': 6879,\n",
       " 'seat': 14927,\n",
       " 'but': 2647,\n",
       " 'said': 14589,\n",
       " 'll': 10058,\n",
       " 'be': 1743,\n",
       " 'seated': 14928,\n",
       " 'girl': 7374,\n",
       " 'comes': 3696,\n",
       " 'seating': 14929,\n",
       " 'someone': 15745,\n",
       " 'else': 5779,\n",
       " 'were': 18633,\n",
       " '52': 267,\n",
       " 'waiter': 18434,\n",
       " 'got': 7537,\n",
       " 'drink': 5472,\n",
       " 'orders': 11911,\n",
       " 'very': 18262,\n",
       " 'pleasant': 12838,\n",
       " 'host': 8413,\n",
       " 'us': 18094,\n",
       " 'server': 15051,\n",
       " 'prices': 13202,\n",
       " 'good': 7500,\n",
       " 'as': 1243,\n",
       " 'well': 18627,\n",
       " 'placed': 12780,\n",
       " 'once': 11822,\n",
       " 'decided': 4714,\n",
       " 'what': 18651,\n",
       " 'wanted': 18484,\n",
       " '02': 6,\n",
       " 'shared': 15123,\n",
       " 'baked': 1559,\n",
       " 'spaghetti': 15857,\n",
       " 'calzone': 2765,\n",
       " 'small': 15561,\n",
       " 'beef': 1789,\n",
       " 'pizza': 12765,\n",
       " 'both': 2256,\n",
       " 'try': 17681,\n",
       " 'huge': 8491,\n",
       " 'smallest': 15563,\n",
       " 'one': 11823,\n",
       " 'personal': 12546,\n",
       " '11': 39,\n",
       " 'awesome': 1473,\n",
       " 'liked': 9949,\n",
       " 'does': 5300,\n",
       " 'sweetish': 16707,\n",
       " 'sauce': 14727,\n",
       " 'how': 8458,\n",
       " 'box': 2298,\n",
       " 'part': 12282,\n",
       " 'take': 16804,\n",
       " 'home': 8316,\n",
       " 'out': 11985,\n",
       " 'door': 5357,\n",
       " 'by': 2686,\n",
       " '42': 234,\n",
       " 'great': 7635,\n",
       " 'not': 11591,\n",
       " 'these': 17161,\n",
       " 'reviewers': 14236,\n",
       " 'things': 17177,\n",
       " 'because': 1771,\n",
       " 'all': 783,\n",
       " 'serious': 15040,\n",
       " 'issues': 9111,\n",
       " 'rosie': 14451,\n",
       " 'dakota': 4560,\n",
       " 'love': 10185,\n",
       " 'chaparral': 3143,\n",
       " 'dog': 5303,\n",
       " 'park': 12264,\n",
       " 'convenient': 4027,\n",
       " 'surrounded': 16635,\n",
       " 'lot': 10163,\n",
       " 'paths': 12341,\n",
       " 'desert': 4925,\n",
       " 'xeriscape': 18974,\n",
       " 'baseball': 1682,\n",
       " 'fields': 6528,\n",
       " 'ballparks': 1580,\n",
       " 'lake': 9648,\n",
       " 'ducks': 5532,\n",
       " 'scottsdale': 14853,\n",
       " 'rec': 13775,\n",
       " 'dept': 4904,\n",
       " 'wonderful': 18863,\n",
       " 'job': 9271,\n",
       " 'keeping': 9430,\n",
       " 'clean': 3483,\n",
       " 'shaded': 15091,\n",
       " 'find': 6585,\n",
       " 'trash': 17573,\n",
       " 'cans': 2829,\n",
       " 'poopy': 12953,\n",
       " 'pick': 12657,\n",
       " 'mitts': 10966,\n",
       " 'located': 10085,\n",
       " 'over': 12024,\n",
       " 'fenced': 6481,\n",
       " 'area': 1153,\n",
       " 'is': 9097,\n",
       " 'let': 9874,\n",
       " 'dogs': 5314,\n",
       " 'run': 14531,\n",
       " 'play': 12824,\n",
       " 'sniff': 15650,\n",
       " 'general': 7297,\n",
       " 'manager': 10395,\n",
       " 'scott': 14851,\n",
       " 'petello': 12575,\n",
       " 'egg': 5716,\n",
       " 'into': 9006,\n",
       " 'detail': 4963,\n",
       " 'assure': 1315,\n",
       " 'if': 8612,\n",
       " 'albeit': 753,\n",
       " 'rare': 13669,\n",
       " 'speak': 15884,\n",
       " 'treat': 17597,\n",
       " 'guy': 7816,\n",
       " 'respect': 14151,\n",
       " 'state': 16165,\n",
       " 'your': 19074,\n",
       " 'surprised': 16629,\n",
       " 'don': 5340,\n",
       " 'walk': 18453,\n",
       " 'totally': 17456,\n",
       " 'satisfied': 14717,\n",
       " 'just': 9363,\n",
       " 'did': 5027,\n",
       " 'always': 848,\n",
       " 'say': 14763,\n",
       " 'mistakes': 10954,\n",
       " 'inevitable': 8811,\n",
       " 'recover': 13829,\n",
       " 'important': 8681,\n",
       " 'thanks': 17117,\n",
       " 'his': 8254,\n",
       " 'staff': 16089,\n",
       " 'customer': 4511,\n",
       " 'life': 9922,\n",
       " 'drop': 5498,\n",
       " 're': 13723,\n",
       " 'doing': 5316,\n",
       " 'drive': 5481,\n",
       " 'after': 651,\n",
       " 'ate': 1332,\n",
       " 'next': 11454,\n",
       " 'day': 4641,\n",
       " 'cute': 4518,\n",
       " 'little': 10040,\n",
       " 'green': 7645,\n",
       " 'building': 2558,\n",
       " 'may': 10602,\n",
       " 'gone': 7493,\n",
       " 'competely': 3772,\n",
       " 'unoticed': 17988,\n",
       " 'hadn': 7846,\n",
       " 'been': 1793,\n",
       " 'driving': 5487,\n",
       " 'down': 5395,\n",
       " 'palm': 12183,\n",
       " 'rd': 13720,\n",
       " 'avoid': 1452,\n",
       " 'construction': 3964,\n",
       " 'waiting': 18436,\n",
       " 'turn': 17723,\n",
       " 'onto': 11837,\n",
       " '16th': 82,\n",
       " 'street': 16345,\n",
       " 'grand': 7579,\n",
       " 'opening': 11854,\n",
       " 'sign': 15341,\n",
       " 'caught': 2999,\n",
       " 'eye': 6271,\n",
       " 'yelping': 19027,\n",
       " 'soul': 15813,\n",
       " 'leaped': 9783,\n",
       " 'joy': 9312,\n",
       " 'new': 11434,\n",
       " 'desolate': 4946,\n",
       " 'opened': 11853,\n",
       " 'put': 13493,\n",
       " 'easy': 5634,\n",
       " 'decor': 4735,\n",
       " 'smell': 15583,\n",
       " 'cleanliness': 3489,\n",
       " 'inside': 8898,\n",
       " 'ordered': 11908,\n",
       " 'dinner': 5093,\n",
       " 'two': 17769,\n",
       " 'loved': 10186,\n",
       " 'seeing': 14963,\n",
       " 'variety': 18180,\n",
       " 'poblano': 12886,\n",
       " 'peppers': 12495,\n",
       " 'mole': 11042,\n",
       " 'mahi': 10329,\n",
       " 'mushrooms': 11238,\n",
       " 'wrapped': 18934,\n",
       " 'banana': 1590,\n",
       " 'leaves': 9799,\n",
       " 'difficult': 5050,\n",
       " 'choose': 3349,\n",
       " 'far': 6374,\n",
       " 'la': 9613,\n",
       " 'condesa': 3860,\n",
       " 'shrimp': 15290,\n",
       " 'burro': 2615,\n",
       " 'baja': 1554,\n",
       " 'sur': 16612,\n",
       " 'dogfish': 5304,\n",
       " 'shark': 15127,\n",
       " 'taco': 16779,\n",
       " 'meals': 10638,\n",
       " 'stole': 16278,\n",
       " 'much': 11191,\n",
       " 'flavor': 6699,\n",
       " 'snagged': 15623,\n",
       " 'bites': 2001,\n",
       " 'hubbys': 8479,\n",
       " 'burros': 2616,\n",
       " 'mmmm': 10983,\n",
       " 'such': 16493,\n",
       " 'delight': 4823,\n",
       " 'salsa': 14628,\n",
       " 'bar': 1631,\n",
       " 'endless': 5867,\n",
       " 'really': 13749,\n",
       " 'stocked': 16272,\n",
       " 'excited': 6138,\n",
       " 'strawberry': 16336,\n",
       " 'too': 17404,\n",
       " 'hot': 8421,\n",
       " 'fact': 6307,\n",
       " 'big': 1945,\n",
       " 'wimp': 18771,\n",
       " 'horchata': 8387,\n",
       " 'handmade': 7910,\n",
       " 'throw': 17233,\n",
       " 'pecans': 12420,\n",
       " 'fruit': 7083,\n",
       " 'yummy': 19108,\n",
       " 'bonus': 2196,\n",
       " 'wasn': 18530,\n",
       " 'enough': 5906,\n",
       " 'win': 18773,\n",
       " 'art': 1215,\n",
       " 'restaurant': 14170,\n",
       " 'sho': 15214,\n",
       " 'sucker': 16497,\n",
       " 'mexican': 10791,\n",
       " 'folk': 6818,\n",
       " 'frida': 7021,\n",
       " 'kahlo': 9378,\n",
       " 'oprah': 11876,\n",
       " 'painting': 12153,\n",
       " 'her': 8154,\n",
       " 'diego': 5034,\n",
       " 'hanging': 7924,\n",
       " 'paintings': 12154,\n",
       " 'artist': 1231,\n",
       " 'nobuo': 11524,\n",
       " 'shows': 15284,\n",
       " 'unique': 17951,\n",
       " 'talents': 16818,\n",
       " 'carefully': 2896,\n",
       " 'crafted': 4261,\n",
       " 'features': 6445,\n",
       " 'start': 16149,\n",
       " 'pork': 12975,\n",
       " 'belly': 1851,\n",
       " 'buns': 2592,\n",
       " 'stout': 16309,\n",
       " 'then': 17142,\n",
       " 'until': 18024,\n",
       " 'longer': 10122,\n",
       " 'oldish': 11792,\n",
       " 'man': 10390,\n",
       " 'who': 18706,\n",
       " 'owns': 12099,\n",
       " 'store': 16297,\n",
       " 'sweet': 16700,\n",
       " 'perhaps': 12518,\n",
       " 'sweeter': 16702,\n",
       " 'cookies': 4055,\n",
       " 'or': 11892,\n",
       " 'ice': 8580,\n",
       " 'cream': 4295,\n",
       " 'lowdown': 10200,\n",
       " 'giant': 7344,\n",
       " 'cookie': 4054,\n",
       " 'sandwiches': 14680,\n",
       " 'super': 16574,\n",
       " 'cheap': 3186,\n",
       " 'permutations': 12535,\n",
       " 'basically': 1692,\n",
       " 'snickerdoodle': 15647,\n",
       " 'marvelous': 10523,\n",
       " 'vietnamese': 18299,\n",
       " 'sandwich': 14678,\n",
       " 'shoppe': 15235,\n",
       " 'baguettes': 1545,\n",
       " 'oven': 12022,\n",
       " 'butter': 2655,\n",
       " 'choices': 3338,\n",
       " 'modest': 11016,\n",
       " 'selection': 14981,\n",
       " 'goods': 7506,\n",
       " 'along': 818,\n",
       " 'rolls': 14416,\n",
       " 'around': 1190,\n",
       " 'bring': 2431,\n",
       " 'cash': 2959,\n",
       " 'atm': 1346,\n",
       " 'card': 2881,\n",
       " 'credit': 4316,\n",
       " 'cards': 2889,\n",
       " 'accepted': 434,\n",
       " 'premises': 13126,\n",
       " 'limited': 9965,\n",
       " 'time': 17295,\n",
       " 'thing': 17174,\n",
       " 'going': 7478,\n",
       " 'right': 14301,\n",
       " 'now': 11624,\n",
       " 'bbq': 1736,\n",
       " 'chicken': 3260,\n",
       " 'long': 10120,\n",
       " 'last': 9709,\n",
       " 'tried': 17627,\n",
       " 'other': 11974,\n",
       " 'tomato': 17383,\n",
       " 'basil': 1694,\n",
       " 'soup': 15820,\n",
       " 'every': 6078,\n",
       " 'stars': 16148,\n",
       " 'rate': 13679,\n",
       " 'jason': 9196,\n",
       " 'deli': 4806,\n",
       " 'okay': 11783,\n",
       " 'grew': 7661,\n",
       " 'shopping': 15239,\n",
       " 'los': 10155,\n",
       " 'gatos': 7259,\n",
       " 'oakville': 11677,\n",
       " 'shock': 15216,\n",
       " 'saw': 14758,\n",
       " 'world': 18901,\n",
       " 'stuff': 16417,\n",
       " 'cheese': 3218,\n",
       " 'wine': 18785,\n",
       " 'tell': 17007,\n",
       " 'happy': 7950,\n",
       " 'am': 849,\n",
       " 'arizona': 1170,\n",
       " 'could': 4174,\n",
       " 'dean': 4677,\n",
       " 'deluca': 4842,\n",
       " 'shouldn': 15262,\n",
       " 'even': 6068,\n",
       " 'reviewed': 14234,\n",
       " 'kind': 9499,\n",
       " 'want': 18482,\n",
       " 'keep': 9429,\n",
       " 'myself': 11268,\n",
       " 'first': 6630,\n",
       " 'went': 18632,\n",
       " 'garlic': 7231,\n",
       " 'knots': 9550,\n",
       " 'favorite': 6423,\n",
       " 'course': 4201,\n",
       " 'will': 18758,\n",
       " 'alot': 823,\n",
       " 'check': 3194,\n",
       " 'car': 2869,\n",
       " 'wanna': 18479,\n",
       " 'buy': 2673,\n",
       " 'wrong': 18957,\n",
       " 'move': 11167,\n",
       " 'service': 15055,\n",
       " 'biggest': 1949,\n",
       " 'mistake': 10951,\n",
       " 'ur': 18083,\n",
       " 'asked': 1266,\n",
       " 'girlfriend': 7376,\n",
       " 'oil': 11773,\n",
       " 'guess': 7766,\n",
       " 'ripped': 14324,\n",
       " 'off': 11743,\n",
       " 'lying': 10262,\n",
       " 'without': 18832,\n",
       " 'fixing': 6658,\n",
       " 'problem': 13254,\n",
       " 'might': 10834,\n",
       " 'accident': 443,\n",
       " 'she': 15145,\n",
       " 'brand': 2334,\n",
       " 'tires': 17331,\n",
       " 'timing': 17305,\n",
       " 'belt': 1857,\n",
       " 'brake': 2329,\n",
       " 'pads': 12138,\n",
       " 'know': 9551,\n",
       " 'worst': 18913,\n",
       " 'those': 17201,\n",
       " 'above': 398,\n",
       " 'changed': 3132,\n",
       " 'months': 11088,\n",
       " 'before': 1804,\n",
       " 'trashy': 17575,\n",
       " 'dealer': 4669,\n",
       " 'somewhere': 15753,\n",
       " 'coming': 3708,\n",
       " 'ages': 671,\n",
       " 'favorites': 6424,\n",
       " 'elsa': 5778,\n",
       " 'burgers': 2599,\n",
       " 'dragon': 5420,\n",
       " 'wings': 18789,\n",
       " 'china': 3302,\n",
       " 'pepper': 12487,\n",
       " 'atmosphere': 1347,\n",
       " 'fun': 7129,\n",
       " 'display': 5206,\n",
       " 'abstract': 415,\n",
       " 'cool': 4060,\n",
       " 'boss': 2248,\n",
       " 'healthy': 8062,\n",
       " 'eating': 5644,\n",
       " 'recommended': 13821,\n",
       " 'highly': 8210,\n",
       " 'skeptical': 15445,\n",
       " 'friends': 7032,\n",
       " 'convert': 4037,\n",
       " 'believers': 1837,\n",
       " 'dumplings': 5557,\n",
       " 'onion': 11828,\n",
       " 'tart': 16886,\n",
       " 'starters': 16153,\n",
       " 'shirataki': 15200,\n",
       " 'noodles': 11555,\n",
       " 'tacos': 16780,\n",
       " 'entrees': 5941,\n",
       " 'also': 830,\n",
       " 'kale': 9387,\n",
       " 'aid': 701,\n",
       " 'dishes': 5176,\n",
       " 'times': 17301,\n",
       " 'since': 15385,\n",
       " 'never': 11433,\n",
       " 'disappointed': 5124,\n",
       " 'yoga': 19048,\n",
       " 'salad': 14601,\n",
       " 'chopped': 3354,\n",
       " 'table': 16765,\n",
       " 'uprooted': 18070,\n",
       " 'whole': 18710,\n",
       " 'plant': 12802,\n",
       " 'patio': 12347,\n",
       " 'embarrassed': 5795,\n",
       " 'date': 4628,\n",
       " 'careful': 2895,\n",
       " 'arms': 1182,\n",
       " 'quite': 13570,\n",
       " 'clumsy': 3576,\n",
       " 'sometimes': 15751,\n",
       " 'banned': 1623,\n",
       " 'clumsiness': 3575,\n",
       " 'think': 17180,\n",
       " 'live': 10043,\n",
       " 'true': 17665,\n",
       " 'disclaimer': 5137,\n",
       " 'charming': 3171,\n",
       " 'homes': 8325,\n",
       " 'purposed': 13477,\n",
       " 'restaurants': 14171,\n",
       " 'certain': 3071,\n",
       " 'colored': 3671,\n",
       " 'opinion': 11868,\n",
       " 'cibo': 3406,\n",
       " 'being': 1829,\n",
       " 'having': 8021,\n",
       " 'lunch': 10240,\n",
       " 'unknowingly': 17963,\n",
       " '05': 10,\n",
       " 'minutes': 10908,\n",
       " 'close': 3542,\n",
       " 'between': 1909,\n",
       " 'served': 15050,\n",
       " 'salscicia': 14630,\n",
       " 'side': 15323,\n",
       " 'perfectly': 12510,\n",
       " 'crisp': 4350,\n",
       " 'chewy': 3248,\n",
       " 'saltimbocca': 14636,\n",
       " 'sausage': 14739,\n",
       " 'flavorful': 6701,\n",
       " 'complimented': 3810,\n",
       " 'roasted': 14370,\n",
       " 'red': 13840,\n",
       " 'onions': 11829,\n",
       " 'finished': 6605,\n",
       " 'quality': 13519,\n",
       " 'mozzarella': 11180,\n",
       " 'should': 15259,\n",
       " 'friendly': 7031,\n",
       " 'comfortable': 3698,\n",
       " 'though': 17203,\n",
       " 'bit': 1995,\n",
       " 'hang': 7921,\n",
       " 'lived': 10044,\n",
       " 'nearby': 11365,\n",
       " 'disgusting': 5173,\n",
       " 'groupon': 7719,\n",
       " 'daughter': 4632,\n",
       " 'outdated': 11989,\n",
       " 'gaudy': 7261,\n",
       " '80': 326,\n",
       " 'style': 16437,\n",
       " 'interior': 8979,\n",
       " 'feel': 6462,\n",
       " 'episode': 5965,\n",
       " 'sopranos': 15790,\n",
       " 'itself': 9128,\n",
       " 'simple': 15375,\n",
       " 'trying': 17682,\n",
       " 'positive': 13003,\n",
       " 'employees': 5824,\n",
       " 'owners': 12096,\n",
       " 'creating': 4305,\n",
       " 'dealt': 4675,\n",
       " 'discount': 5146,\n",
       " 'tire': 17328,\n",
       " 'phoenix': 12617,\n",
       " 'texas': 17088,\n",
       " 'has': 7990,\n",
       " 'knowing': 9552,\n",
       " 'expect': 6188,\n",
       " 'pleasantly': 12840,\n",
       " 'amount': 907,\n",
       " 'parking': 12268,\n",
       " 'front': 7060,\n",
       " 'open': 11852,\n",
       " 'adequate': 556,\n",
       " 'perimeters': 12520,\n",
       " 'already': 828,\n",
       " 'cars': 2941,\n",
       " 'infront': 8842,\n",
       " 'see': 14958,\n",
       " 'representative': 14091,\n",
       " 'guys': 7817,\n",
       " 'working': 18895,\n",
       " 'helping': 8140,\n",
       " 'yet': 19037,\n",
       " 'saying': 14765,\n",
       " 'hello': 8129,\n",
       " 'reassuring': 13766,\n",
       " 'soon': 15769,\n",
       " 'didn': 5029,\n",
       " 'unneccesary': 17978,\n",
       " 'helped': 8135,\n",
       " 'wally': 18468,\n",
       " 'he': 8038,\n",
       " 'inspected': 8911,\n",
       " 'plan': 12789,\n",
       " 'action': 509,\n",
       " 'gave': 7264,\n",
       " 'options': 11887,\n",
       " 'headed': 8042,\n",
       " 'decision': 4719,\n",
       " 'replace': 14076,\n",
       " 'checked': 3196,\n",
       " 'stock': 16271,\n",
       " 'unfortunately': 17924,\n",
       " 'called': 2749,\n",
       " 'another': 985,\n",
       " 'picked': 12658,\n",
       " 'come': 3693,\n",
       " 'same': 14648,\n",
       " 'boys': 2309,\n",
       " 'installed': 8921,\n",
       " 'heafty': 8051,\n",
       " 'relief': 13985,\n",
       " 'although': 841,\n",
       " 'serviced': 15056,\n",
       " 'exactly': 6105,\n",
       " 'told': 17372,\n",
       " '45': 240,\n",
       " 'min': 10870,\n",
       " 'apologized': 1044,\n",
       " 'need': 11384,\n",
       " '2nd': 178,\n",
       " 'sorry': 15803,\n",
       " 'forgot': 6889,\n",
       " 'name': 11299,\n",
       " 'professional': 13284,\n",
       " 'recommend': 13818,\n",
       " 'bringing': 2432,\n",
       " 'future': 7166,\n",
       " 'most': 11137,\n",
       " 'definitely': 4782,\n",
       " 'tip': 17321,\n",
       " 'make': 10357,\n",
       " 'appointment': 1099,\n",
       " 'online': 11830,\n",
       " 'ins': 8890,\n",
       " 'believe': 1834,\n",
       " 'helps': 8142,\n",
       " 'manage': 10391,\n",
       " 'customers': 4512,\n",
       " 'easier': 5624,\n",
       " 'benefits': 1870,\n",
       " 'eaten': 5638,\n",
       " 'none': 11545,\n",
       " 'night': 11481,\n",
       " 'attentive': 1376,\n",
       " 'horrible': 8394,\n",
       " 'expectation': 6190,\n",
       " 'serve': 15049,\n",
       " 'steak': 16188,\n",
       " 'par': 12240,\n",
       " 'seafood': 14907,\n",
       " 'charging': 3158,\n",
       " '39': 211,\n",
       " 'bucks': 2534,\n",
       " 'ribeye': 14264,\n",
       " 'hoping': 8378,\n",
       " 'thick': 17166,\n",
       " 'cooked': 4052,\n",
       " 'pittsburgh': 12761,\n",
       " 'piece': 12677,\n",
       " 'meat': 10652,\n",
       " 'mostly': 11138,\n",
       " 'fat': 6401,\n",
       " 'gristle': 7692,\n",
       " 'way': 18565,\n",
       " 'resembled': 14125,\n",
       " 'similar': 15370,\n",
       " 'chick': 3258,\n",
       " 'filet': 6553,\n",
       " 'veggies': 18205,\n",
       " 'blah': 2029,\n",
       " 'basket': 1698,\n",
       " 'ample': 912,\n",
       " 'old': 11788,\n",
       " 'certainly': 3072,\n",
       " 'addition': 546,\n",
       " 'crammed': 4268,\n",
       " 'room': 14432,\n",
       " 'where': 18665,\n",
       " 'nuts': 11662,\n",
       " 'butts': 2671,\n",
       " 'tables': 16768,\n",
       " 'listening': 10024,\n",
       " 'conversations': 4033,\n",
       " 'ranging': 13658,\n",
       " 'recent': 13789,\n",
       " 'bout': 2289,\n",
       " 'pinkeye': 12725,\n",
       " 'couple': 4194,\n",
       " 'elected': 5746,\n",
       " 'entirely': 5934,\n",
       " 'french': 6993,\n",
       " 'showed': 15276,\n",
       " 'turned': 17724,\n",
       " 'switch': 16728,\n",
       " 'suddenly': 16504,\n",
       " 'began': 1808,\n",
       " 'speaking': 15888,\n",
       " 'english': 5888,\n",
       " 'pay': 12381,\n",
       " '150': 70,\n",
       " 'mortons': 11131,\n",
       " 'maestro': 10309,\n",
       " 'steaks': 16192,\n",
       " 'perfection': 12507,\n",
       " 'half': 7868,\n",
       " 'doesnt': 5302,\n",
       " 'wind': 18774,\n",
       " 'plate': 12813,\n",
       " 'un': 17821,\n",
       " 'fortunately': 6914,\n",
       " 'lux': 10255,\n",
       " 'house': 8444,\n",
       " 'nearly': 11368,\n",
       " 'poorer': 12955,\n",
       " 'coffee': 3628,\n",
       " 'pastries': 12329,\n",
       " 'music': 11241,\n",
       " 'fred': 6981,\n",
       " 'won': 18860,\n",
       " 'beat': 1758,\n",
       " 'dead': 4663,\n",
       " 'horse': 8401,\n",
       " 'add': 533,\n",
       " 'offer': 11750,\n",
       " 'wide': 18728,\n",
       " 'deep': 4758,\n",
       " 'fried': 7026,\n",
       " 'quesadillas': 13534,\n",
       " 'catch': 2986,\n",
       " 'alright': 829,\n",
       " 'away': 1467,\n",
       " 'yelp': 19023,\n",
       " 'fitting': 6646,\n",
       " 'comeback': 3694,\n",
       " 'review': 14233,\n",
       " 'waffles': 18419,\n",
       " 'yes': 19034,\n",
       " 'fin': 6576,\n",
       " 'ghetto': 7339,\n",
       " 'tea': 16946,\n",
       " 'nonsense': 11551,\n",
       " 'quick': 13550,\n",
       " 'ridiculously': 14293,\n",
       " 'year': 19006,\n",
       " 'damn': 4570,\n",
       " 'seasoning': 14925,\n",
       " 'deliciously': 4818,\n",
       " 'soft': 15699,\n",
       " 'crispy': 4352,\n",
       " 'cinammoness': 3416,\n",
       " 'cramped': 4269,\n",
       " 'doesn': 5301,\n",
       " 'matter': 10584,\n",
       " 'delivered': 4833,\n",
       " 'quiet': 13556,\n",
       " 'tunnel': 17715,\n",
       " 'vision': 18349,\n",
       " 'bite': 2000,\n",
       " 'taken': 16806,\n",
       " 'orgy': 11938,\n",
       " 'goodness': 7504,\n",
       " 'requirement': 14112,\n",
       " 'real': 13740,\n",
       " 'early': 5612,\n",
       " 'prepared': 13137,\n",
       " 'forget': 6882,\n",
       " 'velvet': 18214,\n",
       " 'cake': 2731,\n",
       " 'kool': 9569,\n",
       " 'fits': 6643,\n",
       " 'fancy': 6361,\n",
       " 'couldn': 4175,\n",
       " 'stop': 16292,\n",
       " 'talking': 16826,\n",
       " 'lolo': 10115,\n",
       " 'weeks': 18608,\n",
       " 'shoot': 15227,\n",
       " 'later': 9717,\n",
       " 'still': 16248,\n",
       " 'drooling': 5496,\n",
       " 'thinking': 17183,\n",
       " 'incredible': 8765,\n",
       " 'pasta': 12322,\n",
       " 'carbonara': 2877,\n",
       " 'tiramisu': 17327,\n",
       " 'calamari': 2735,\n",
       " 'tomatoes': 17384,\n",
       " 'freshest': 7011,\n",
       " 'tasted': 16900,\n",
       " 'mom': 11050,\n",
       " 'attention': 1375,\n",
       " 'eat': 5635,\n",
       " 'italian': 9116,\n",
       " 'feeling': 6463,\n",
       " 'slighted': 15518,\n",
       " 'town': 17487,\n",
       " 'visitors': 18355,\n",
       " 'looking': 10131,\n",
       " 'impress': 8690,\n",
       " 'owner': 12095,\n",
       " 'jon': 9299,\n",
       " 'helpful': 8137,\n",
       " 'cares': 2899,\n",
       " 'providing': 13379,\n",
       " 'dining': 5090,\n",
       " 'experience': 6203,\n",
       " 'spot': 16008,\n",
       " 'recommendations': 13820,\n",
       " 'organizes': 11933,\n",
       " 'tasting': 16911,\n",
       " 'events': 6072,\n",
       " 'joining': 9285,\n",
       " 'mailing': 10337,\n",
       " 'list': 10018,\n",
       " 'facebook': 6296,\n",
       " 'page': 12140,\n",
       " 'fan': 6356,\n",
       " 'burlington': 2602,\n",
       " 'deals': 4674,\n",
       " 'however': 8462,\n",
       " 'again': 661,\n",
       " 'return': 14215,\n",
       " 'instead': 8928,\n",
       " 'stood': 16289,\n",
       " 'line': 9979,\n",
       " '15': 69,\n",
       " 'employee': 5823,\n",
       " 'buying': 2677,\n",
       " 'putting': 13499,\n",
       " 'layaway': 9749,\n",
       " 'three': 17217,\n",
       " 'help': 8134,\n",
       " 'words': 18889,\n",
       " 'except': 6126,\n",
       " 'hold': 8296,\n",
       " 'pissed': 12745,\n",
       " 'lady': 9638,\n",
       " 'finally': 6579,\n",
       " 'done': 5345,\n",
       " 'needed': 11385,\n",
       " 'work': 18891,\n",
       " 'meeting': 10687,\n",
       " 'laugh': 9728,\n",
       " 'waited': 18433,\n",
       " '20': 125,\n",
       " 'beer': 1796,\n",
       " 'refilled': 13880,\n",
       " 'empty': 5832,\n",
       " 'asking': 1268,\n",
       " 'refill': 13878,\n",
       " 'brunette': 2498,\n",
       " 'recognize': 13815,\n",
       " 'left': 9817,\n",
       " 'sat': 14709,\n",
       " '25': 159,\n",
       " 'friday': 7022,\n",
       " 'bartender': 1674,\n",
       " 'ask': 1265,\n",
       " 'management': 10394,\n",
       " 'pull': 13421,\n",
       " 'head': 8039,\n",
       " 'ass': 1280,\n",
       " 'sad': 14572,\n",
       " 'watch': 18539,\n",
       " 'talk': 16821,\n",
       " 'trout': 17659,\n",
       " 'shocked': 15217,\n",
       " 'lots': 10165,\n",
       " 'bones': 2191,\n",
       " 'hmmmmm': 8270,\n",
       " 'hmmmmmm': 8271,\n",
       " 'isn': 9104,\n",
       " 'fish': 6632,\n",
       " 'comped': 3765,\n",
       " 'church': 3393,\n",
       " 'embraces': 5803,\n",
       " 'principle': 13226,\n",
       " 'christ': 3371,\n",
       " 'exists': 6174,\n",
       " 'changing': 3134,\n",
       " 'relationship': 13964,\n",
       " 'jesus': 9241,\n",
       " 'campuses': 2786,\n",
       " 'allow': 803,\n",
       " ...}"
      ]
     },
     "execution_count": 57,
     "metadata": {},
     "output_type": "execute_result"
    }
   ],
   "source": [
    "cv.vocabulary_"
   ]
  },
  {
   "cell_type": "code",
   "execution_count": 42,
   "metadata": {},
   "outputs": [],
   "source": [
    "X = cv.fit_transform(X)"
   ]
  },
  {
   "cell_type": "code",
   "execution_count": null,
   "metadata": {
    "collapsed": true
   },
   "outputs": [],
   "source": []
  },
  {
   "cell_type": "code",
   "execution_count": null,
   "metadata": {
    "collapsed": true
   },
   "outputs": [],
   "source": []
  },
  {
   "cell_type": "markdown",
   "metadata": {},
   "source": [
    "## Train Test Split\n",
    "\n",
    "Let's split our data into training and testing data.\n",
    "\n",
    "** Use train_test_split to split up the data into X_train, X_test, y_train, y_test. Use test_size=0.3 and random_state=101 **"
   ]
  },
  {
   "cell_type": "code",
   "execution_count": 58,
   "metadata": {
    "collapsed": true
   },
   "outputs": [],
   "source": [
    "from sklearn.model_selection import train_test_split"
   ]
  },
  {
   "cell_type": "code",
   "execution_count": 59,
   "metadata": {
    "collapsed": true
   },
   "outputs": [],
   "source": [
    "X_train, X_test, y_train, y_test = train_test_split(X, y, test_size=0.3, random_state=101)"
   ]
  },
  {
   "cell_type": "markdown",
   "metadata": {},
   "source": [
    "## Training a Model\n",
    "\n",
    "Time to train a model!\n",
    "\n",
    "** Import MultinomialNB and create an instance of the estimator and call is nb **"
   ]
  },
  {
   "cell_type": "code",
   "execution_count": 60,
   "metadata": {
    "collapsed": true
   },
   "outputs": [],
   "source": [
    "from sklearn.naive_bayes import MultinomialNB\n",
    "\n",
    "mb = MultinomialNB()"
   ]
  },
  {
   "cell_type": "markdown",
   "metadata": {},
   "source": [
    "**Now fit nb using the training data.**"
   ]
  },
  {
   "cell_type": "code",
   "execution_count": 62,
   "metadata": {},
   "outputs": [
    {
     "data": {
      "text/plain": [
       "MultinomialNB(alpha=1.0, class_prior=None, fit_prior=True)"
      ]
     },
     "execution_count": 62,
     "metadata": {},
     "output_type": "execute_result"
    }
   ],
   "source": [
    "mb.fit(X_train, y_train)"
   ]
  },
  {
   "cell_type": "markdown",
   "metadata": {},
   "source": [
    "## Predictions and Evaluations\n",
    "\n",
    "Time to see how our model did!\n",
    "\n",
    "**Use the predict method off of nb to predict labels from X_test.**"
   ]
  },
  {
   "cell_type": "code",
   "execution_count": 64,
   "metadata": {},
   "outputs": [],
   "source": [
    "prediction = mb.predict(X_test)"
   ]
  },
  {
   "cell_type": "markdown",
   "metadata": {},
   "source": [
    "** Create a confusion matrix and classification report using these predictions and y_test **"
   ]
  },
  {
   "cell_type": "code",
   "execution_count": 65,
   "metadata": {
    "collapsed": true
   },
   "outputs": [],
   "source": [
    "from sklearn.metrics import classification_report, confusion_matrix"
   ]
  },
  {
   "cell_type": "code",
   "execution_count": 66,
   "metadata": {},
   "outputs": [
    {
     "name": "stdout",
     "output_type": "stream",
     "text": [
      "              precision    recall  f1-score   support\n",
      "\n",
      "           1       0.88      0.70      0.78       228\n",
      "           5       0.93      0.98      0.96       998\n",
      "\n",
      "   micro avg       0.93      0.93      0.93      1226\n",
      "   macro avg       0.91      0.84      0.87      1226\n",
      "weighted avg       0.92      0.93      0.92      1226\n",
      "\n",
      "\n",
      "\n",
      "[[159  69]\n",
      " [ 22 976]]\n"
     ]
    }
   ],
   "source": [
    "print(classification_report(y_test, prediction))\n",
    "print('\\n')\n",
    "print(confusion_matrix(y_test, prediction))"
   ]
  },
  {
   "cell_type": "code",
   "execution_count": 125,
   "metadata": {},
   "outputs": [
    {
     "name": "stdout",
     "output_type": "stream",
     "text": [
      "[[159  69]\n",
      " [ 22 976]]\n",
      "\n",
      "\n",
      "             precision    recall  f1-score   support\n",
      "\n",
      "          1       0.88      0.70      0.78       228\n",
      "          5       0.93      0.98      0.96       998\n",
      "\n",
      "avg / total       0.92      0.93      0.92      1226\n",
      "\n"
     ]
    }
   ],
   "source": []
  },
  {
   "cell_type": "markdown",
   "metadata": {},
   "source": [
    "**Great! Let's see what happens if we try to include TF-IDF to this process using a pipeline.**"
   ]
  },
  {
   "cell_type": "markdown",
   "metadata": {},
   "source": [
    "# Using Text Processing\n",
    "\n",
    "** Import TfidfTransformer from sklearn. **"
   ]
  },
  {
   "cell_type": "code",
   "execution_count": 67,
   "metadata": {
    "collapsed": true
   },
   "outputs": [],
   "source": [
    "from sklearn.feature_extraction.text import TfidfTransformer"
   ]
  },
  {
   "cell_type": "markdown",
   "metadata": {},
   "source": [
    "** Import Pipeline from sklearn. **"
   ]
  },
  {
   "cell_type": "code",
   "execution_count": 68,
   "metadata": {
    "collapsed": true
   },
   "outputs": [],
   "source": [
    "from sklearn.pipeline import Pipeline"
   ]
  },
  {
   "cell_type": "markdown",
   "metadata": {},
   "source": [
    "** Now create a pipeline with the following steps:CountVectorizer(), TfidfTransformer(),MultinomialNB()**"
   ]
  },
  {
   "cell_type": "code",
   "execution_count": 69,
   "metadata": {},
   "outputs": [],
   "source": [
    "pipeline = Pipeline([\n",
    "    ('cv', CountVectorizer()),\n",
    "    ('transformer', TfidfTransformer()),\n",
    "    ('nb', MultinomialNB())\n",
    "])"
   ]
  },
  {
   "cell_type": "markdown",
   "metadata": {},
   "source": [
    "## Using the Pipeline\n",
    "\n",
    "**Time to use the pipeline! Remember this pipeline has all your pre-process steps in it already, meaning we'll need to re-split the original data (Remember that we overwrote X as the CountVectorized version. What we need is just the text**"
   ]
  },
  {
   "cell_type": "markdown",
   "metadata": {},
   "source": [
    "### Train Test Split\n",
    "\n",
    "**Redo the train test split on the yelp_class object.**"
   ]
  },
  {
   "cell_type": "code",
   "execution_count": 71,
   "metadata": {
    "collapsed": true
   },
   "outputs": [],
   "source": [
    "X = yelp_class['text']\n",
    "y = yelp_class['stars']\n",
    "\n",
    "X_train, X_test, y_train, y_test = train_test_split(X, y, test_size=0.3, random_state=101)"
   ]
  },
  {
   "cell_type": "markdown",
   "metadata": {},
   "source": [
    "**Now fit the pipeline to the training data. Remember you can't use the same training data as last time because that data has already been vectorized. We need to pass in just the text and labels**"
   ]
  },
  {
   "cell_type": "code",
   "execution_count": 72,
   "metadata": {},
   "outputs": [
    {
     "data": {
      "text/plain": [
       "Pipeline(memory=None,\n",
       "     steps=[('cv', CountVectorizer(analyzer='word', binary=False, decode_error='strict',\n",
       "        dtype=<class 'numpy.int64'>, encoding='utf-8', input='content',\n",
       "        lowercase=True, max_df=1.0, max_features=None, min_df=1,\n",
       "        ngram_range=(1, 1), preprocessor=None, stop_words=None,\n",
       "        strip_a...linear_tf=False, use_idf=True)), ('nb', MultinomialNB(alpha=1.0, class_prior=None, fit_prior=True))])"
      ]
     },
     "execution_count": 72,
     "metadata": {},
     "output_type": "execute_result"
    }
   ],
   "source": [
    "pipeline.fit(X=X_train, y=y_train)"
   ]
  },
  {
   "cell_type": "markdown",
   "metadata": {},
   "source": [
    "### Predictions and Evaluation\n",
    "\n",
    "** Now use the pipeline to predict from the X_test and create a classification report and confusion matrix. You should notice strange results.**"
   ]
  },
  {
   "cell_type": "code",
   "execution_count": 74,
   "metadata": {},
   "outputs": [],
   "source": [
    "prediction = pipeline.predict(X_test)"
   ]
  },
  {
   "cell_type": "code",
   "execution_count": 75,
   "metadata": {},
   "outputs": [
    {
     "name": "stdout",
     "output_type": "stream",
     "text": [
      "              precision    recall  f1-score   support\n",
      "\n",
      "           1       0.00      0.00      0.00       228\n",
      "           5       0.81      1.00      0.90       998\n",
      "\n",
      "   micro avg       0.81      0.81      0.81      1226\n",
      "   macro avg       0.41      0.50      0.45      1226\n",
      "weighted avg       0.66      0.81      0.73      1226\n",
      "\n",
      "\n",
      "\n",
      "[[  0 228]\n",
      " [  0 998]]\n"
     ]
    },
    {
     "name": "stderr",
     "output_type": "stream",
     "text": [
      "C:\\Users\\Plamen\\Anaconda3\\lib\\site-packages\\sklearn\\metrics\\classification.py:1143: UndefinedMetricWarning: Precision and F-score are ill-defined and being set to 0.0 in labels with no predicted samples.\n",
      "  'precision', 'predicted', average, warn_for)\n",
      "C:\\Users\\Plamen\\Anaconda3\\lib\\site-packages\\sklearn\\metrics\\classification.py:1143: UndefinedMetricWarning: Precision and F-score are ill-defined and being set to 0.0 in labels with no predicted samples.\n",
      "  'precision', 'predicted', average, warn_for)\n",
      "C:\\Users\\Plamen\\Anaconda3\\lib\\site-packages\\sklearn\\metrics\\classification.py:1143: UndefinedMetricWarning: Precision and F-score are ill-defined and being set to 0.0 in labels with no predicted samples.\n",
      "  'precision', 'predicted', average, warn_for)\n"
     ]
    }
   ],
   "source": [
    "print(classification_report(y_test, prediction))\n",
    "print('\\n')\n",
    "print(confusion_matrix(y_test, prediction))"
   ]
  },
  {
   "cell_type": "code",
   "execution_count": 154,
   "metadata": {},
   "outputs": [
    {
     "name": "stdout",
     "output_type": "stream",
     "text": [
      "[[  0 228]\n",
      " [  0 998]]\n",
      "             precision    recall  f1-score   support\n",
      "\n",
      "          1       0.00      0.00      0.00       228\n",
      "          5       0.81      1.00      0.90       998\n",
      "\n",
      "avg / total       0.66      0.81      0.73      1226\n",
      "\n"
     ]
    },
    {
     "name": "stderr",
     "output_type": "stream",
     "text": [
      "/Users/marci/anaconda/lib/python3.5/site-packages/sklearn/metrics/classification.py:1074: UndefinedMetricWarning: Precision and F-score are ill-defined and being set to 0.0 in labels with no predicted samples.\n",
      "  'precision', 'predicted', average, warn_for)\n"
     ]
    }
   ],
   "source": []
  },
  {
   "cell_type": "markdown",
   "metadata": {},
   "source": [
    "Looks like Tf-Idf actually made things worse! That is it for this project. But there is still a lot more you can play with:\n",
    "\n",
    "**Some other things to try....**\n",
    "Try going back and playing around with the pipeline steps and seeing if creating a custom analyzer like we did in the lecture helps (note: it probably won't). Or recreate the pipeline with just the CountVectorizer() and NaiveBayes. Does changing the ML model at the end to another classifier help at all?"
   ]
  },
  {
   "cell_type": "markdown",
   "metadata": {},
   "source": [
    "# Great Job!"
   ]
  }
 ],
 "metadata": {
  "kernelspec": {
   "display_name": "Python 3",
   "language": "python",
   "name": "python3"
  },
  "language_info": {
   "codemirror_mode": {
    "name": "ipython",
    "version": 3
   },
   "file_extension": ".py",
   "mimetype": "text/x-python",
   "name": "python",
   "nbconvert_exporter": "python",
   "pygments_lexer": "ipython3",
   "version": "3.6.2"
  }
 },
 "nbformat": 4,
 "nbformat_minor": 1
}
